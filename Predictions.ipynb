{
 "cells": [
  {
   "cell_type": "code",
   "execution_count": null,
   "metadata": {},
   "outputs": [],
   "source": [
    "import pandas as pd\n",
    "import geopandas as gpd\n",
    "import numpy as np\n",
    "import json\n",
    "import matplotlib.pyplot as plt\n",
    "import re\n",
    "\n",
    "import folium\n",
    "import rasterio\n",
    "import rasterio.mask\n",
    "\n",
    "from sklearn.preprocessing import LabelEncoder\n",
    "from sklearn.model_selection import train_test_split\n",
    "from sklearn.metrics import mean_squared_error\n",
    "from geopy.distance import geodesic\n",
    "import folium\n",
    "from sklearn.tree import DecisionTreeClassifier"
   ]
  },
  {
   "cell_type": "code",
   "execution_count": null,
   "metadata": {},
   "outputs": [],
   "source": [
    "incoming_weather_size_draught = pd.read_csv('Data/Input_ML/incoming_weather_size_draught.csv')\n",
    "incoming_weather_size = pd.read_csv('Data/Input_ML/incoming_weather_size.csv')\n",
    "incoming_weather = pd.read_csv('Data/Input_ML/incoming_weather.csv')"
   ]
  },
  {
   "cell_type": "code",
   "execution_count": null,
   "metadata": {},
   "outputs": [],
   "source": [
    "# Assuming 'column_name' is the name of the column containing strings in your DataFrame\n",
    "label_encoder = LabelEncoder()\n",
    "incoming_weather_size_draught['Direction'] = label_encoder.fit_transform(incoming_weather_size_draught['Direction'])\n",
    "incoming_weather_size_draught['Wind_speed'] = label_encoder.fit_transform(incoming_weather_size_draught['Wind_speed'])\n",
    "incoming_weather_size_draught['Type'] = label_encoder.fit_transform(incoming_weather_size_draught['Type'])\n",
    "#incoming_weather_size_draught['to_haven'] = label_encoder.fit_transform(incoming_weather_size_draught['to_haven'])\n",
    "incoming_weather_size_draught"
   ]
  },
  {
   "cell_type": "code",
   "execution_count": null,
   "metadata": {},
   "outputs": [],
   "source": [
    "leaving_weather_size_draught = pd.read_csv('Data/Input_ML/leaving_weather_size_draught.csv')\n",
    "leaving_weather_size = pd.read_csv('Data/Input_ML/leaving_weather_size.csv')\n",
    "leaving_weather = pd.read_csv('Data/Input_ML/leaving_weather.csv')"
   ]
  },
  {
   "cell_type": "code",
   "execution_count": null,
   "metadata": {},
   "outputs": [],
   "source": [
    "# Assuming 'column_name' is the name of the column containing strings in your DataFrame\n",
    "label_encoder = LabelEncoder()\n",
    "leaving_weather_size_draught['Direction'] = label_encoder.fit_transform(leaving_weather_size_draught['Direction'])\n",
    "leaving_weather_size_draught['Wind_speed'] = label_encoder.fit_transform(leaving_weather_size_draught['Wind_speed'])\n",
    "leaving_weather_size_draught['Type'] = label_encoder.fit_transform(leaving_weather_size_draught['Type'])\n",
    "#leaving_weather_size_draught['from_haven'] = label_encoder.fit_transform(leaving_weather_size_draught['from_haven'])"
   ]
  },
  {
   "cell_type": "code",
   "execution_count": null,
   "metadata": {},
   "outputs": [],
   "source": [
    "leaving_top = leaving_weather_size_draught['from_haven'].value_counts()\n",
    "incoming_top = incoming_weather_size_draught['to_haven'].value_counts()\n",
    "print(leaving_top[0:2])\n",
    "print(incoming_top[0:2])"
   ]
  },
  {
   "cell_type": "code",
   "execution_count": null,
   "metadata": {},
   "outputs": [],
   "source": [
    "top_leaving = 'EURO'\n",
    "top_incoming = 'EURO'\n",
    "\n",
    "harbor_leaving = leaving_weather_size_draught[leaving_weather_size_draught['from_haven']== top_leaving]\n",
    "harbor_incoming = incoming_weather_size_draught[incoming_weather_size_draught['to_haven']== top_incoming]\n"
   ]
  },
  {
   "cell_type": "code",
   "execution_count": null,
   "metadata": {},
   "outputs": [],
   "source": [
    "columns_leaving = [\n",
    "    #'from_haven',\n",
    "    'Direction',\n",
    "    'Wind_speed',\n",
    "    'Lenght'\t,\n",
    "    'Width'\t,\n",
    "    'Type'\n",
    "]\n",
    "\n",
    "columns_incoming = [\n",
    "    #'to_haven',\n",
    "    'Direction',\n",
    "    'Wind_speed',\n",
    "    'Lenght'\t,\n",
    "    'Width'\t,\n",
    "    'Type'\n",
    "]\n"
   ]
  },
  {
   "cell_type": "code",
   "execution_count": null,
   "metadata": {},
   "outputs": [],
   "source": [
    "X_from_lat_train, X_from_lat_test, y_from_lat_train, y_from_lat_test = train_test_split(harbor_leaving[columns_leaving], harbor_leaving['area_ID'], test_size=0.3, random_state=42)\n",
    "#X_from_lat_train, X_from_lat_test, y_from_lat_train, y_from_lat_test = train_test_split(leaving_weather_size_draught[columns_leaving], leaving_weather_size_draught['area_ID'], test_size=0.3, random_state=42)\n",
    "data = X_from_lat_test"
   ]
  },
  {
   "cell_type": "code",
   "execution_count": null,
   "metadata": {},
   "outputs": [],
   "source": [
    "from sklearn.tree import DecisionTreeClassifier\n",
    "from sklearn.metrics import accuracy_score\n",
    "\n",
    "# Initialize the Decision Tree Classifier\n",
    "decision_tree_classifier = DecisionTreeClassifier(random_state=42)\n",
    "\n",
    "# Train the classifier using the training data\n",
    "decision_tree_classifier.fit(X_from_lat_train, y_from_lat_train)\n",
    "\n",
    "# Make predictions on the test data\n",
    "predictions = decision_tree_classifier.predict(X_from_lat_test)\n",
    "\n",
    "# Calculate the accuracy of the model\n",
    "accuracy = accuracy_score(y_from_lat_test, predictions)\n",
    "\n",
    "print(\"Accuracy of the Decision Tree Classifier: {:.2f}%\".format(accuracy * 100))\n",
    "\n",
    "# Add predictions to the original DataFrame\n",
    "\n",
    "data['Predicted_Area_ID'] = predictions\n",
    "data\n",
    "\n"
   ]
  },
  {
   "cell_type": "code",
   "execution_count": null,
   "metadata": {},
   "outputs": [],
   "source": [
    "merged_df = pd.merge(data, leaving_weather_size_draught, left_index=True, right_index=True, how='left')\n",
    "merged_df"
   ]
  },
  {
   "cell_type": "code",
   "execution_count": null,
   "metadata": {},
   "outputs": [],
   "source": [
    "# Create a new empty list to store prediction_center values\n",
    "prediction_centers = []\n",
    "\n",
    "# Iterate through the rows of merged_df\n",
    "for index, row in merged_df.iterrows():\n",
    "    # Get the Predicted_Area_ID value from the current row of merged_df\n",
    "    predicted_area_id = row['Predicted_Area_ID']\n",
    "    \n",
    "    # Find the corresponding row in incoming_weather_size_draught where area_ID matches Predicted_Area_ID\n",
    "    matching_row = incoming_weather_size_draught[incoming_weather_size_draught['area_ID'] == predicted_area_id]\n",
    "    \n",
    "    # Check if a matching row is found\n",
    "    if not matching_row.empty:\n",
    "        # Get the value from the 'center' column in the matching row\n",
    "        prediction_center = matching_row['center'].values[0]\n",
    "    else:\n",
    "        # If no matching row is found, assign a default value (you can change this as per your requirement)\n",
    "        prediction_center = None\n",
    "    \n",
    "    # Append the prediction_center value to the list\n",
    "    prediction_centers.append(prediction_center)\n",
    "\n",
    "# Add the prediction_centers list as a new column to merged_df\n",
    "merged_df['prediction_center'] = prediction_centers"
   ]
  },
  {
   "cell_type": "code",
   "execution_count": null,
   "metadata": {},
   "outputs": [],
   "source": [
    "merged_df"
   ]
  },
  {
   "cell_type": "code",
   "execution_count": null,
   "metadata": {},
   "outputs": [],
   "source": [
    "# Function to convert string representation of coordinates to actual coordinates\n",
    "def parse_coordinates(coord_str):\n",
    "    if coord_str:\n",
    "        # Extract numerical values from the string (format: 'POINT (longitude latitude)')\n",
    "        coordinates = re.findall(r\"[-+]?\\d*\\.\\d+|\\d+\", coord_str)\n",
    "        lat, lon = map(float, coordinates)\n",
    "        return lat, lon\n",
    "    else:\n",
    "        return None\n",
    "\n",
    "# Convert 'from_location' and 'center' columns to actual coordinates\n",
    "merged_df['to_location_coords'] = merged_df['to_location'].apply(parse_coordinates)\n",
    "merged_df['center_coords'] = merged_df['prediction_center'].apply(parse_coordinates)\n",
    "\n",
    "# Function to calculate distance between two points using geodesic\n",
    "def calculate_distance(row):\n",
    "    if row['to_location_coords'] and row['center_coords']:\n",
    "        return geodesic(row['to_location_coords'], row['center_coords']).meters\n",
    "    else:\n",
    "        return None\n",
    "\n",
    "# Apply the calculate_distance function to the DataFrame to compute distances\n",
    "merged_df['distance_to_predicted_center'] = merged_df.apply(calculate_distance, axis=1)\n",
    "moyenne_distance = merged_df['distance_to_predicted_center'].mean()\n",
    "\n",
    "# Afficher la moyenne\n",
    "print(\"Average distance between predicted and real locations: \", moyenne_distance, \"meters\")\n",
    "\n"
   ]
  },
  {
   "cell_type": "code",
   "execution_count": null,
   "metadata": {},
   "outputs": [],
   "source": [
    "import graphviz\n",
    "# DOT data\n",
    "dot_data = tree.export_graphviz(DecisionTreeClassifier, out_file=None, \n",
    "                                feature_names=iris.feature_names,  \n",
    "                                class_names=iris.target_names,\n",
    "                                filled=True)\n",
    "\n",
    "# Draw graph\n",
    "graph = graphviz.Source(dot_data, format=\"png\") \n",
    "graph\n"
   ]
  },
  {
   "cell_type": "code",
   "execution_count": null,
   "metadata": {},
   "outputs": [],
   "source": [
    "graph.render(\"decision_tree_graphivz\")\n",
    "'decision_tree_graphivz.png'"
   ]
  },
  {
   "cell_type": "code",
   "execution_count": null,
   "metadata": {},
   "outputs": [],
   "source": [
    "from dtreeviz.trees import dtreeviz # remember to load the package\n",
    "\n",
    "viz = dtreeviz(DecisionTreeClassifier, harbor_leaving[columns_leaving], harbor_leaving['area_ID'],\n",
    "                target_name=\"target\",\n",
    "                feature_names=iris.feature_names,\n",
    "                class_names=list(iris.target_names))\n",
    "\n",
    "viz\n",
    "\n",
    "viz.save(\"decision_tree.svg\")"
   ]
  },
  {
   "cell_type": "code",
   "execution_count": null,
   "metadata": {},
   "outputs": [],
   "source": [
    "from math import radians, sin, cos, sqrt, atan2\n",
    "\n",
    "def calculate_haversine_distance(point1, point2):\n",
    "    # Extract latitude and longitude from the points\n",
    "    lat1, lon1 = map(float, point1.strip('POINT ()').split())\n",
    "    point2 = point2.replace('[', '').replace(']', '').replace(',', '')\n",
    "    lat2, lon2 = point2\n",
    "    \n",
    "    # Convert latitude and longitude from degrees to radians\n",
    "    lat1, lon1, lat2, lon2 = map(radians, [lat1, lon1, lat2, lon2])\n",
    "\n",
    "    # Haversine formula\n",
    "    dlon = lon2 - lon1\n",
    "    dlat = lat2 - lat1\n",
    "    a = sin(dlat / 2)**2 + cos(lat1) * cos(lat2) * sin(dlon / 2)**2\n",
    "    c = 2 * atan2(sqrt(a), sqrt(1 - a))\n",
    "    # Radius of the Earth in kilometers (mean value)\n",
    "    radius = 6371.0\n",
    "    distance = radius * c\n",
    "\n",
    "    return distance"
   ]
  }
 ],
 "metadata": {
  "kernelspec": {
   "display_name": "CIEM6302",
   "language": "python",
   "name": "python3"
  },
  "language_info": {
   "codemirror_mode": {
    "name": "ipython",
    "version": 3
   },
   "file_extension": ".py",
   "mimetype": "text/x-python",
   "name": "python",
   "nbconvert_exporter": "python",
   "pygments_lexer": "ipython3",
   "version": "3.10.12"
  }
 },
 "nbformat": 4,
 "nbformat_minor": 2
}
