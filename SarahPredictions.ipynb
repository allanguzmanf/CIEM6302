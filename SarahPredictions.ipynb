{
 "cells": [
  {
   "cell_type": "markdown",
   "metadata": {},
   "source": [
    "**Visualization of the data**"
   ]
  },
  {
   "cell_type": "markdown",
   "metadata": {},
   "source": [
    "1. Set up phase"
   ]
  },
  {
   "cell_type": "code",
   "execution_count": null,
   "metadata": {},
   "outputs": [],
   "source": [
    "#Import of the needed libraries\n",
    "\n",
    "import pandas as pd\n",
    "import numpy as np\n",
    "import json\n",
    "import matplotlib.pyplot as plt\n",
    "from matplotlib.patches import FancyArrowPatch\n",
    "from matplotlib.colors import Normalize\n",
    "from matplotlib.cm import ScalarMappable\n",
    "import matplotlib.patches as mpatches\n",
    "import seaborn as sns\n",
    "import plotly.express as px\n",
    "import plotly.graph_objects as go\n",
    "from plotly.subplots import make_subplots\n",
    "import dash\n",
    "from dash import dcc, html\n",
    "from dash.dependencies import Input, Output"
   ]
  },
  {
   "cell_type": "code",
   "execution_count": null,
   "metadata": {},
   "outputs": [],
   "source": [
    "def flatten_dict(d, parent_key='', sep='_'):\n",
    "    items = {}\n",
    "    for k, v in d.items():\n",
    "        new_key = f\"{parent_key}{sep}{k}\" if parent_key else k\n",
    "        if isinstance(v, dict):\n",
    "            items.update(flatten_dict(v, new_key, sep=sep))\n",
    "        else:\n",
    "            items[new_key] = v\n",
    "    return items\n",
    "\n",
    "# Opening JSON file\n",
    "f = open('port_arthur.json')\n",
    " \n",
    "# returns JSON object as a dictionary\n",
    "data = json.load(f)\n",
    " \n",
    "# Flatten each dictionary and store the results in a list\n",
    "flattened_dicts = [flatten_dict(d) for d in data['data']]\n",
    "\n",
    "# Create a DataFrame\n",
    "data = pd.DataFrame(flattened_dicts)\n",
    " \n",
    "# Closing file\n",
    "f.close()"
   ]
  },
  {
   "cell_type": "code",
   "execution_count": null,
   "metadata": {},
   "outputs": [],
   "source": [
    "#Modification of the variable naviguation_time in order to use it efficiently\n",
    "data['navigation_time'] = pd.to_datetime(data['navigation_time'])\n",
    "\n",
    "#Remove the duplicates\n",
    "data = data.drop_duplicates()\n",
    "\n",
    "data"
   ]
  },
  {
   "cell_type": "code",
   "execution_count": null,
   "metadata": {},
   "outputs": [],
   "source": [
    "#Create a data frame only containing the tugs and another frame only containing the other vessels\n",
    "tugs = data.loc[(data['vessel_type'] == 'tug')].reset_index()\n",
    "non_tug = data.loc[(data['vessel_type'] != 'tug')].reset_index()"
   ]
  },
  {
   "cell_type": "code",
   "execution_count": null,
   "metadata": {},
   "outputs": [],
   "source": [
    "# Select the columns we want to keep\n",
    "selected_columns = ['vessel_name','vessel_type', 'device_dimensions_to_bow', 'device_dimensions_to_starboard', 'device_dimensions_to_stern', 'device_dimensions_to_port']\n",
    "\n",
    "# Create a new DataFrame with only the selected columns\n",
    "new_data = data.loc[:, selected_columns]\n",
    "\n",
    "# Group the data by 'vessel_name' and aggregate the values (first function)\n",
    "aggregated_df = new_data.groupby('vessel_name').first().reset_index()\n",
    "\n",
    "# Display the aggregated DataFrame\n",
    "aggregated_df"
   ]
  },
  {
   "cell_type": "markdown",
   "metadata": {},
   "source": [
    "2. Visualization of the data"
   ]
  },
  {
   "cell_type": "code",
   "execution_count": null,
   "metadata": {},
   "outputs": [],
   "source": [
    "# Define custom colors for each vessel type\n",
    "custom_colors = ['mediumslateblue', 'goldenrod', 'darkgrey']"
   ]
  },
  {
   "cell_type": "markdown",
   "metadata": {},
   "source": [
    "- Distribution of the vessel type within the data"
   ]
  },
  {
   "cell_type": "code",
   "execution_count": null,
   "metadata": {},
   "outputs": [],
   "source": [
    "# Count the number of unique vessel types\n",
    "vessel_type_counts = aggregated_df['vessel_type'].value_counts()\n",
    "\n",
    "plt.figure(figsize=(8, 4))\n",
    "plt.bar(vessel_type_counts.index, vessel_type_counts.values, color=custom_colors)\n",
    "plt.xlabel('Vessel type')\n",
    "plt.ylabel('Count')\n",
    "plt.title('Distribution of vessel types')\n",
    "plt.xticks(rotation=45)\n",
    "plt.show()"
   ]
  },
  {
   "cell_type": "code",
   "execution_count": null,
   "metadata": {},
   "outputs": [],
   "source": [
    "# Count the number of unique vessel types\n",
    "vessel_type_counts = aggregated_df['vessel_type'].value_counts()\n",
    "\n",
    "plt.figure(figsize=(7, 4))\n",
    "plt.pie(vessel_type_counts, autopct='%1.1f%%', startangle=140, colors=custom_colors)\n",
    "plt.title('Vessel type distribution (%)')\n",
    "\n",
    "# Add a legend\n",
    "plt.legend(vessel_type_counts.index, title='Vessel types', loc='best')\n",
    "plt.axis('equal')  \n",
    "plt.show()\n"
   ]
  },
  {
   "cell_type": "markdown",
   "metadata": {},
   "source": [
    "- Box plots providing a visual summary of the distribution of the dimensions for all 3 different types of vessels"
   ]
  },
  {
   "cell_type": "code",
   "execution_count": null,
   "metadata": {},
   "outputs": [],
   "source": [
    "# Create a 2x2 grid of subplots\n",
    "fig, axes = plt.subplots(2, 2, figsize=(12, 12))\n",
    "\n",
    "# List of dimensions\n",
    "dimensions = ['device_dimensions_to_bow', 'device_dimensions_to_starboard', 'device_dimensions_to_stern', 'device_dimensions_to_port']\n",
    "\n",
    "# Iterate over dimensions and corresponding subplots\n",
    "for dimension, ax in zip(dimensions, axes.flatten()):\n",
    "    sns.boxplot(data=aggregated_df, x='vessel_type', y=dimension, palette=custom_colors, ax=ax)\n",
    "    ax.set_xlabel('Vessel type')\n",
    "    ax.set_ylabel(f'Device dimensions to {dimension.split(\"_\")[-1].title()}')\n",
    "    \n",
    "    # Calculate and display statistical properties\n",
    "    for vessel_type in aggregated_df['vessel_type'].unique():\n",
    "        subset_data = aggregated_df[aggregated_df['vessel_type'] == vessel_type]\n",
    "        median = subset_data[dimension].median()\n",
    "        q1 = subset_data[dimension].quantile(0.25)\n",
    "        q3 = subset_data[dimension].quantile(0.75)\n",
    "        max_val = subset_data[dimension].max()\n",
    "        \n",
    "        # Determine the vertical position for labels\n",
    "        text_y = max_val + 2 if max_val + 2 < ax.get_ylim()[1] else ax.get_ylim()[1] - 2\n",
    "        \n",
    "        ax.text(\n",
    "            subset_data.index[0], \n",
    "            text_y, \n",
    "            f\"Median: {median:.2f}\\nQ1: {q1:.2f}\\nQ3: {q3:.2f}\", \n",
    "            horizontalalignment='center', \n",
    "            verticalalignment='bottom',\n",
    "            color='black'\n",
    "        )\n",
    "\n",
    "# Set a single title for all subplots\n",
    "fig.suptitle('Dimensions', fontsize=16)\n",
    "plt.tight_layout()\n",
    "plt.show()"
   ]
  },
  {
   "cell_type": "markdown",
   "metadata": {},
   "source": [
    "- Heatmap to visualize the correlations between device dimensions"
   ]
  },
  {
   "cell_type": "code",
   "execution_count": null,
   "metadata": {},
   "outputs": [],
   "source": [
    "\n",
    "# List of device dimensions\n",
    "device_dimensions = ['device_dimensions_to_bow', 'device_dimensions_to_starboard', 'device_dimensions_to_stern', 'device_dimensions_to_port']\n",
    "\n",
    "correlation_matrix = aggregated_df[device_dimensions].corr()\n",
    "\n",
    "# Create a figure with a larger size\n",
    "plt.figure(figsize=(10, 8))\n",
    "\n",
    "\n",
    "custom_cmap = sns.diverging_palette(220, 20, as_cmap=True)\n",
    "\n",
    "# Create the correlation heatmap with annotations\n",
    "sns.heatmap(\n",
    "    correlation_matrix,\n",
    "    annot=True,\n",
    "    fmt='.2f', \n",
    "    cmap=custom_cmap,\n",
    "    linewidths=0.5,\n",
    "    square=True,  \n",
    "    cbar=True,  \n",
    "    cbar_kws={'shrink': 0.7},  \n",
    ")\n",
    "\n",
    "plt.title('Correlation heatmap of device dimensions')\n",
    "plt.subplots_adjust(bottom=0.15)\n",
    "plt.show()"
   ]
  },
  {
   "cell_type": "markdown",
   "metadata": {},
   "source": [
    "- Pair plot with device dimensions to visually explore and understand (with a grid of scatter plots, histograms and kernel density estimates (KDEs)) the relationships and distributions between different device dimensions within the dataset"
   ]
  },
  {
   "cell_type": "code",
   "execution_count": null,
   "metadata": {},
   "outputs": [],
   "source": [
    "# List of device dimensions\n",
    "device_dimensions = ['device_dimensions_to_bow', 'device_dimensions_to_starboard', 'device_dimensions_to_stern', 'device_dimensions_to_port']\n",
    "\n",
    "# Create a pair plot\n",
    "pairplot = sns.pairplot(\n",
    "    data=aggregated_df,\n",
    "    vars=device_dimensions,\n",
    "    hue='vessel_type',  \n",
    "    palette=custom_colors,  \n",
    "    diag_kind='kde', \n",
    "    plot_kws={'alpha': 0.7}, \n",
    "    diag_kws={'shade': True},  \n",
    ")\n",
    "\n",
    "# Add a title to the pair plot\n",
    "pairplot.fig.suptitle('Pair plot of device dimensions', y=1.02)\n",
    "plt.tight_layout()\n",
    "plt.show()"
   ]
  },
  {
   "cell_type": "markdown",
   "metadata": {},
   "source": [
    "- Navigation speed over time for each tug"
   ]
  },
  {
   "cell_type": "code",
   "execution_count": null,
   "metadata": {},
   "outputs": [],
   "source": [
    "# Iterate through unique vessel names\n",
    "unique_vessel_names = tugs['vessel_name'].unique()\n",
    "\n",
    "plt.figure(figsize=(12, 8))\n",
    "\n",
    "for vessel_name in unique_vessel_names:\n",
    "    # Filter data for the current vessel name\n",
    "    subset = tugs[tugs['vessel_name'] == vessel_name]\n",
    "    \n",
    "    # Create a line plot for navigation_speed over time for the current vessel\n",
    "    plt.plot(subset['navigation_time'], subset['navigation_speed'], label=vessel_name)\n",
    "\n",
    "# Set plot labels and title\n",
    "plt.xlabel('Time')\n",
    "plt.ylabel('Navigation speed')\n",
    "plt.title('Navigation speed over time for each tug')\n",
    "plt.xticks(rotation=45)\n",
    "plt.legend(loc='upper left', bbox_to_anchor=(1, 1))  \n",
    "plt.show()"
   ]
  },
  {
   "cell_type": "markdown",
   "metadata": {},
   "source": [
    "- Navigation speed over time for each tug, with the possibility here to get the values on the curves"
   ]
  },
  {
   "cell_type": "code",
   "execution_count": null,
   "metadata": {},
   "outputs": [],
   "source": [
    "# Filter data for non-tug vessels\n",
    "tug_data = data[data['vessel_type'] == 'tug']\n",
    "\n",
    "# Create a figure\n",
    "fig = go.Figure()\n",
    "\n",
    "# Iterate through unique vessel names for non-tug vessels\n",
    "unique_tug_names = tug_data['vessel_name'].unique()\n",
    "\n",
    "for vessel_name in unique_tug_names:\n",
    "    # Filter data for the current vessel name\n",
    "    subset = tug_data[tug_data['vessel_name'] == vessel_name]\n",
    "    \n",
    "    # Create a line trace for navigation_speed over time for the current vessel\n",
    "    fig.add_trace(go.Scatter(x=subset['navigation_time'], y=subset['navigation_speed'],\n",
    "                             mode='lines+markers', name=vessel_name,\n",
    "                             hoverinfo='x+y', text=subset['navigation_time'].dt.strftime('%Y-%m-%d %H:%M:%S')))\n",
    "\n",
    "# Customize layout\n",
    "fig.update_layout(\n",
    "    title='Navigation speed over time for each tug',\n",
    "    xaxis_title='Time',\n",
    "    yaxis_title='Navigation speed',\n",
    "    xaxis=dict(tickangle=-45),\n",
    "    legend=dict(x=1, y=1)\n",
    ")\n",
    "\n",
    "# Show the plot\n",
    "fig.show()"
   ]
  },
  {
   "cell_type": "markdown",
   "metadata": {},
   "source": [
    "- Navigation speed over time for each vessel (non-tug)"
   ]
  },
  {
   "cell_type": "code",
   "execution_count": null,
   "metadata": {},
   "outputs": [],
   "source": [
    "# Iterate through unique vessel names\n",
    "unique_vessel_names = non_tug['vessel_name'].unique()\n",
    "\n",
    "plt.figure(figsize=(12, 8))\n",
    "\n",
    "for vessel_name in unique_vessel_names:\n",
    "    # Filter data for the current vessel name\n",
    "    subset = non_tug[non_tug['vessel_name'] == vessel_name]\n",
    "    \n",
    "    # Create a line plot for navigation_speed over time for the current vessel\n",
    "    plt.plot(subset['navigation_time'], subset['navigation_speed'], label=vessel_name)\n",
    "\n",
    "# Set plot labels and title\n",
    "plt.xlabel('Time')\n",
    "plt.ylabel('Navigation speed')\n",
    "plt.title('Navigation speed over time for each vessel (non-tug vessels)')\n",
    "plt.xticks(rotation=45)\n",
    "plt.legend(loc='upper left', bbox_to_anchor=(1, 1))  # Add legend outside the plot\n",
    "\n",
    "plt.show()"
   ]
  },
  {
   "cell_type": "markdown",
   "metadata": {},
   "source": [
    "- Navigation speed over time for each vessel (no tug), with the possibility here to get the values on the curves"
   ]
  },
  {
   "cell_type": "code",
   "execution_count": null,
   "metadata": {},
   "outputs": [],
   "source": [
    "# Filter data for non-tug vessels\n",
    "non_tug_data = data[data['vessel_type'] != 'tug']\n",
    "\n",
    "# Create a figure\n",
    "fig = go.Figure()\n",
    "\n",
    "# Iterate through unique vessel names for non-tug vessels\n",
    "unique_vessel_names = non_tug_data['vessel_name'].unique()\n",
    "\n",
    "for vessel_name in unique_vessel_names:\n",
    "    # Filter data for the current vessel name\n",
    "    subset = non_tug_data[non_tug_data['vessel_name'] == vessel_name]\n",
    "    \n",
    "    # Create a line trace for navigation_speed over time for the current vessel\n",
    "    fig.add_trace(go.Scatter(x=subset['navigation_time'], y=subset['navigation_speed'],\n",
    "                             mode='lines+markers', name=vessel_name,\n",
    "                             hoverinfo='x+y', text=subset['navigation_time'].dt.strftime('%Y-%m-%d %H:%M:%S')))\n",
    "\n",
    "# Customize layout\n",
    "fig.update_layout(\n",
    "    title='Navigation speed over time for each vessel (non-tug vessels)',\n",
    "    xaxis_title='Time',\n",
    "    yaxis_title='Navigation speed',\n",
    "    xaxis=dict(tickangle=-45),\n",
    "    legend=dict(x=1, y=1)\n",
    ")\n",
    "\n",
    "fig.show()\n"
   ]
  },
  {
   "cell_type": "markdown",
   "metadata": {},
   "source": [
    "- Navigation speed over time, possibility to choose 2 desired vessels in the top bars to compare their speed (for example a tug and a tanker to see if the ^y had to same speed during a period of time)"
   ]
  },
  {
   "cell_type": "code",
   "execution_count": null,
   "metadata": {},
   "outputs": [],
   "source": [
    "# Create a Dash app\n",
    "app = dash.Dash(__name__)\n",
    "\n",
    "# Define the app layout\n",
    "app.layout = html.Div([\n",
    "    dcc.Dropdown(id='vessel-selector-1', multi=False, placeholder=\"Select Vessel 1\"),\n",
    "    dcc.Dropdown(id='vessel-selector-2', multi=False, placeholder=\"Select Vessel 2\"),\n",
    "    dcc.Graph(id='speed-comparison'),\n",
    "])\n",
    "\n",
    "# Create a color map to assign unique colors to vessels\n",
    "vessel_colors = px.colors.qualitative.Set3\n",
    "\n",
    "# Populate the dropdown menus with vessel names\n",
    "vessel_dropdown = [{\"label\": vessel_name, \"value\": vessel_name} for vessel_name in data['vessel_name'].unique()]\n",
    "@app.callback(\n",
    "    Output('vessel-selector-1', 'options'),\n",
    "    Output('vessel-selector-2', 'options'),\n",
    "    Input('vessel-selector-1', 'value'),\n",
    "    Input('vessel-selector-2', 'value')\n",
    ")\n",
    "def update_vessel_options(selected_vessel_1, selected_vessel_2):\n",
    "    # Exclude the selected vessel from the other dropdown\n",
    "    available_vessels = [vessel for vessel in data['vessel_name'].unique() if vessel != selected_vessel_1]\n",
    "    \n",
    "    return ([{\"label\": vessel, \"value\": vessel} for vessel in available_vessels],\n",
    "            [{\"label\": vessel, \"value\": vessel} for vessel in available_vessels])\n",
    "\n",
    "# Define callback function to update speed comparison graph\n",
    "@app.callback(\n",
    "    Output('speed-comparison', 'figure'),\n",
    "    Input('vessel-selector-1', 'value'),\n",
    "    Input('vessel-selector-2', 'value')\n",
    ")\n",
    "def update_speed_comparison(selected_vessel_1, selected_vessel_2):\n",
    "    if selected_vessel_1 is None or selected_vessel_2 is None:\n",
    "        return go.Figure()\n",
    "    \n",
    "    # Filter data for the selected vessels\n",
    "    selected_vessel_data_1 = data[data['vessel_name'] == selected_vessel_1]\n",
    "    selected_vessel_data_2 = data[data['vessel_name'] == selected_vessel_2]\n",
    "    \n",
    "    # Assign unique colors to the selected vessels\n",
    "    color_1 = vessel_colors[0]\n",
    "    color_2 = vessel_colors[1]\n",
    "    \n",
    "    # Create line traces for the selected vessels\n",
    "    trace_1 = go.Scatter(x=selected_vessel_data_1['navigation_time'], y=selected_vessel_data_1['navigation_speed'],\n",
    "                         mode='lines+markers', hoverinfo='x+y',\n",
    "                         text=selected_vessel_data_1['navigation_time'].dt.strftime('%Y-%m-%d %H:%M:%S'),\n",
    "                         line=dict(color=color_1), name=selected_vessel_1)\n",
    "    trace_2 = go.Scatter(x=selected_vessel_data_2['navigation_time'], y=selected_vessel_data_2['navigation_speed'],\n",
    "                         mode='lines+markers', hoverinfo='x+y',\n",
    "                         text=selected_vessel_data_2['navigation_time'].dt.strftime('%Y-%m-%d %H:%M:%S'),\n",
    "                         line=dict(color=color_2), name=selected_vessel_2)\n",
    "    \n",
    "    # Create the speed comparison graph\n",
    "    fig = make_subplots(rows=1, cols=1, subplot_titles=(\"Speed Comparison\",))\n",
    "    fig.add_trace(trace_1)\n",
    "    fig.add_trace(trace_2)\n",
    "    fig.update_layout(\n",
    "        title_text=f'Speed comparison between {selected_vessel_1} and {selected_vessel_2}',\n",
    "        xaxis_title='Time',\n",
    "        yaxis_title='Navigation speed',\n",
    "        xaxis=dict(tickangle=-45),\n",
    "    )\n",
    "    \n",
    "    return fig\n",
    "\n",
    "# Run the Dash app\n",
    "if __name__ == '__main__':\n",
    "    app.run_server(debug=True, use_reloader=False)"
   ]
  },
  {
   "cell_type": "markdown",
   "metadata": {},
   "source": [
    "- Pie charts of the navigation_status"
   ]
  },
  {
   "cell_type": "code",
   "execution_count": null,
   "metadata": {},
   "outputs": [],
   "source": [
    "# Calculate the counts of each navigation status\n",
    "navigation_status_counts = tugs['navigation_status'].value_counts()\n",
    "\n",
    "plt.figure(figsize=(10, 4))\n",
    "\n",
    "# Create the pie chart\n",
    "plt.pie(navigation_status_counts, autopct='%1.1f%%', startangle=140)\n",
    "\n",
    "# Add a legend with labels\n",
    "plt.legend(navigation_status_counts.index, title='Navigation status of tugs', loc='upper right')\n",
    "\n",
    "plt.title('Distribution of tugs navigation status')\n",
    "plt.axis('equal')\n",
    "plt.show()"
   ]
  },
  {
   "cell_type": "code",
   "execution_count": null,
   "metadata": {},
   "outputs": [],
   "source": [
    "# Pie chart of navigation_status\n",
    "# Calculate the counts of each navigation status\n",
    "navigation_status_counts = non_tug['navigation_status'].value_counts()\n",
    "\n",
    "plt.figure(figsize=(12, 6))\n",
    "\n",
    "# Create the pie chart\n",
    "plt.pie(navigation_status_counts, autopct='%1.1f%%', startangle=140)\n",
    "\n",
    "# Add a legend with labels\n",
    "plt.legend(navigation_status_counts.index, title='Navigation status of the vessels', loc='upper right')\n",
    "\n",
    "plt.title('Distribution of vessels navigation status')\n",
    "plt.axis('equal')\n",
    "plt.show()"
   ]
  },
  {
   "cell_type": "code",
   "execution_count": null,
   "metadata": {},
   "outputs": [],
   "source": [
    "# Group data by 'navigation_status' and 'vessel_type' and count occurrences\n",
    "status_type_counts = data.groupby(['navigation_status', 'vessel_type']).size().unstack(fill_value=0)\n",
    "\n",
    "# Create a stacked bar chart with custom colors\n",
    "ax = status_type_counts.plot(kind='bar', stacked=True, figsize=(10, 6), color=custom_colors)\n",
    "\n",
    "# Add values on top of the bars\n",
    "for container in ax.containers:\n",
    "    ax.bar_label(container, label_type='edge', fontsize=10, color='black', labels=container.datavalues)\n",
    "\n",
    "plt.xlabel('Navigation status')\n",
    "plt.ylabel('Count')\n",
    "plt.title('Stacked bar chart of vessel type within navigation status')\n",
    "\n",
    "# Customize legend\n",
    "ax.legend(title='Vessel Type', loc='upper left')\n",
    "\n",
    "plt.show()\n"
   ]
  }
 ],
 "metadata": {
  "kernelspec": {
   "display_name": "CIEM6302",
   "language": "python",
   "name": "python3"
  },
  "language_info": {
   "codemirror_mode": {
    "name": "ipython",
    "version": 3
   },
   "file_extension": ".py",
   "mimetype": "text/x-python",
   "name": "python",
   "nbconvert_exporter": "python",
   "pygments_lexer": "ipython3",
   "version": "3.10.12"
  },
  "orig_nbformat": 4
 },
 "nbformat": 4,
 "nbformat_minor": 2
}
